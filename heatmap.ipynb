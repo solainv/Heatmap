{
 "cells": [
  {
   "cell_type": "markdown",
   "id": "33d4630e-aa76-43c7-b19a-035d6dce4631",
   "metadata": {},
   "source": [
    "<h2>Inhaltverzeichnis</h2>\n",
    "    <ol>\n",
    "        <li><a href=\"#Pseudo-Plot-Color\">Pseudo Plot Color</a>\n",
    "        <ol>\n",
    "            <li><a  href=\"#House-Price\">House Price</a>\n",
    "                <ol>\n",
    "                    <li><a  href=\"#Daten-erstellen\">Daten erstellen</a></li>\n",
    "                    <li><a  href=\"#Daten-gruppieren\">Daten gruppieren</a></li>\n",
    "                    <li><a  href=\"#Daten-pivotieren\">Daten pivotieren</a></li>\n",
    "                    <li><a  href=\"#Heatmap-erstellen\">Heatmap erstellen</a></li>\n",
    "                </ol>\n",
    "            </li>\n",
    "            <li><a  href=\"#Body-Height\">Body Height</a>\n",
    "                <ol>\n",
    "                    <li><a  href=\"#Daten-Erstellung\">Daten Erstellung</a></li>\n",
    "                    <li><a  href=\"#Daten-Gruppierung\">Daten Gruppierung</a></li>\n",
    "                    <li><a  href=\"#Daten-Erstellung\">Daten Provitierung</a></li>\n",
    "                    <li><a  href=\"#Heatmap-Erstellung\">Heatmap Erstellung</a></li>\n",
    "                </ol>\n",
    "            </li>\n",
    "        </ol>\n",
    "        </li>\n",
    "    </ol>"
   ]
  },
  {
   "cell_type": "markdown",
   "id": "65e7ee8f-b886-419b-b4ad-e77a5b2a3a4a",
   "metadata": {},
   "source": [
    "Heatmaps sind wie farbige Karten für Daten. Sie helfen uns, Muster oder Trends in Zahlen schnell zu erkennen. Zum Beispiel könnten wir eine Heatmap verwenden, um zu zeigen, wie die Temperatur in verschiedenen Regionen variiert. Anhand der Farben können wir sehen, wo es heißer oder kälter ist, oder die Preise der Häuser leicht erkennen, was die billigsten und teuersten Häuser sind. Diese Art der Darstellung macht es einfach, komplexe Daten zu verstehen, ohne dass man ein Datenexperte sein muss."
   ]
  },
  {
   "cell_type": "markdown",
   "id": "4aee5c44-7044-435e-82e2-4f5bc461f834",
   "metadata": {},
   "source": [
    "# Pseudo Plot Color"
   ]
  },
  {
   "cell_type": "markdown",
   "id": "a02634be-d553-4261-a1ac-59c4ead58118",
   "metadata": {},
   "source": [
    "## House Price"
   ]
  },
  {
   "cell_type": "markdown",
   "id": "7609e2a0-38ef-481d-b9a4-12ed043d6b7a",
   "metadata": {},
   "source": [
    "### Daten erstellen"
   ]
  },
  {
   "cell_type": "code",
   "execution_count": 1,
   "id": "b609c27e-be2d-4955-a307-d18ce7a28309",
   "metadata": {},
   "outputs": [],
   "source": [
    "data = {\n",
    "    'Location': ['City','Suburb', 'City', 'City', 'Village', 'Suburb', 'Village', 'Village', 'Suburb', 'City'],\n",
    "    'Type': ['Apartment', 'Apartment', 'House', 'Apartment', 'House', 'House', 'Apartment', 'House', 'Apartment', 'House'],\n",
    "    'Price': [500000, 550000, 950000, 750000, 800000, 850000, 900000, 550000, 1000000, 1200000]\n",
    "}"
   ]
  },
  {
   "cell_type": "code",
   "execution_count": 2,
   "id": "bd719c31-0e91-481e-ba45-307e23f7c0f5",
   "metadata": {},
   "outputs": [],
   "source": [
    "import pandas as pd\n",
    "df = pd.DataFrame(data)"
   ]
  },
  {
   "cell_type": "code",
   "execution_count": 3,
   "id": "304074ac-da00-40cb-99e7-73cdebc6e144",
   "metadata": {},
   "outputs": [
    {
     "data": {
      "text/html": [
       "<div>\n",
       "<style scoped>\n",
       "    .dataframe tbody tr th:only-of-type {\n",
       "        vertical-align: middle;\n",
       "    }\n",
       "\n",
       "    .dataframe tbody tr th {\n",
       "        vertical-align: top;\n",
       "    }\n",
       "\n",
       "    .dataframe thead th {\n",
       "        text-align: right;\n",
       "    }\n",
       "</style>\n",
       "<table border=\"1\" class=\"dataframe\">\n",
       "  <thead>\n",
       "    <tr style=\"text-align: right;\">\n",
       "      <th></th>\n",
       "      <th>Location</th>\n",
       "      <th>Type</th>\n",
       "      <th>Price</th>\n",
       "    </tr>\n",
       "  </thead>\n",
       "  <tbody>\n",
       "    <tr>\n",
       "      <th>0</th>\n",
       "      <td>City</td>\n",
       "      <td>Apartment</td>\n",
       "      <td>500000</td>\n",
       "    </tr>\n",
       "    <tr>\n",
       "      <th>1</th>\n",
       "      <td>Suburb</td>\n",
       "      <td>Apartment</td>\n",
       "      <td>550000</td>\n",
       "    </tr>\n",
       "    <tr>\n",
       "      <th>2</th>\n",
       "      <td>City</td>\n",
       "      <td>House</td>\n",
       "      <td>950000</td>\n",
       "    </tr>\n",
       "    <tr>\n",
       "      <th>3</th>\n",
       "      <td>City</td>\n",
       "      <td>Apartment</td>\n",
       "      <td>750000</td>\n",
       "    </tr>\n",
       "    <tr>\n",
       "      <th>4</th>\n",
       "      <td>Village</td>\n",
       "      <td>House</td>\n",
       "      <td>800000</td>\n",
       "    </tr>\n",
       "  </tbody>\n",
       "</table>\n",
       "</div>"
      ],
      "text/plain": [
       "  Location       Type   Price\n",
       "0     City  Apartment  500000\n",
       "1   Suburb  Apartment  550000\n",
       "2     City      House  950000\n",
       "3     City  Apartment  750000\n",
       "4  Village      House  800000"
      ]
     },
     "execution_count": 3,
     "metadata": {},
     "output_type": "execute_result"
    }
   ],
   "source": [
    "df.head()"
   ]
  },
  {
   "cell_type": "markdown",
   "id": "14bb4895-13b6-48d2-ac19-99ee17f9e20a",
   "metadata": {},
   "source": [
    "### Daten gruppieren"
   ]
  },
  {
   "cell_type": "code",
   "execution_count": 4,
   "id": "cc6bda73-8c49-4190-a640-c3836586897e",
   "metadata": {},
   "outputs": [
    {
     "data": {
      "text/html": [
       "<div>\n",
       "<style scoped>\n",
       "    .dataframe tbody tr th:only-of-type {\n",
       "        vertical-align: middle;\n",
       "    }\n",
       "\n",
       "    .dataframe tbody tr th {\n",
       "        vertical-align: top;\n",
       "    }\n",
       "\n",
       "    .dataframe thead th {\n",
       "        text-align: right;\n",
       "    }\n",
       "</style>\n",
       "<table border=\"1\" class=\"dataframe\">\n",
       "  <thead>\n",
       "    <tr style=\"text-align: right;\">\n",
       "      <th></th>\n",
       "      <th>Location</th>\n",
       "      <th>Type</th>\n",
       "      <th>Price</th>\n",
       "    </tr>\n",
       "  </thead>\n",
       "  <tbody>\n",
       "    <tr>\n",
       "      <th>0</th>\n",
       "      <td>City</td>\n",
       "      <td>Apartment</td>\n",
       "      <td>625000.0</td>\n",
       "    </tr>\n",
       "    <tr>\n",
       "      <th>1</th>\n",
       "      <td>City</td>\n",
       "      <td>House</td>\n",
       "      <td>1075000.0</td>\n",
       "    </tr>\n",
       "    <tr>\n",
       "      <th>2</th>\n",
       "      <td>Suburb</td>\n",
       "      <td>Apartment</td>\n",
       "      <td>775000.0</td>\n",
       "    </tr>\n",
       "    <tr>\n",
       "      <th>3</th>\n",
       "      <td>Suburb</td>\n",
       "      <td>House</td>\n",
       "      <td>850000.0</td>\n",
       "    </tr>\n",
       "    <tr>\n",
       "      <th>4</th>\n",
       "      <td>Village</td>\n",
       "      <td>Apartment</td>\n",
       "      <td>900000.0</td>\n",
       "    </tr>\n",
       "    <tr>\n",
       "      <th>5</th>\n",
       "      <td>Village</td>\n",
       "      <td>House</td>\n",
       "      <td>675000.0</td>\n",
       "    </tr>\n",
       "  </tbody>\n",
       "</table>\n",
       "</div>"
      ],
      "text/plain": [
       "  Location       Type      Price\n",
       "0     City  Apartment   625000.0\n",
       "1     City      House  1075000.0\n",
       "2   Suburb  Apartment   775000.0\n",
       "3   Suburb      House   850000.0\n",
       "4  Village  Apartment   900000.0\n",
       "5  Village      House   675000.0"
      ]
     },
     "execution_count": 4,
     "metadata": {},
     "output_type": "execute_result"
    }
   ],
   "source": [
    "df_grouped = df.groupby(['Location','Type'])['Price'].mean().reset_index()\n",
    "df_grouped"
   ]
  },
  {
   "cell_type": "markdown",
   "id": "af6cdaf8-2fc6-4e3c-a162-ae5193e36220",
   "metadata": {},
   "source": [
    "### Daten pivotieren"
   ]
  },
  {
   "cell_type": "code",
   "execution_count": 5,
   "id": "f4bd26c4-17c2-4de8-becc-ab8b8bd9ca1d",
   "metadata": {},
   "outputs": [
    {
     "data": {
      "text/html": [
       "<div>\n",
       "<style scoped>\n",
       "    .dataframe tbody tr th:only-of-type {\n",
       "        vertical-align: middle;\n",
       "    }\n",
       "\n",
       "    .dataframe tbody tr th {\n",
       "        vertical-align: top;\n",
       "    }\n",
       "\n",
       "    .dataframe thead th {\n",
       "        text-align: right;\n",
       "    }\n",
       "</style>\n",
       "<table border=\"1\" class=\"dataframe\">\n",
       "  <thead>\n",
       "    <tr style=\"text-align: right;\">\n",
       "      <th>Type</th>\n",
       "      <th>Apartment</th>\n",
       "      <th>House</th>\n",
       "    </tr>\n",
       "    <tr>\n",
       "      <th>Location</th>\n",
       "      <th></th>\n",
       "      <th></th>\n",
       "    </tr>\n",
       "  </thead>\n",
       "  <tbody>\n",
       "    <tr>\n",
       "      <th>City</th>\n",
       "      <td>625000.0</td>\n",
       "      <td>1075000.0</td>\n",
       "    </tr>\n",
       "    <tr>\n",
       "      <th>Suburb</th>\n",
       "      <td>775000.0</td>\n",
       "      <td>850000.0</td>\n",
       "    </tr>\n",
       "    <tr>\n",
       "      <th>Village</th>\n",
       "      <td>900000.0</td>\n",
       "      <td>675000.0</td>\n",
       "    </tr>\n",
       "  </tbody>\n",
       "</table>\n",
       "</div>"
      ],
      "text/plain": [
       "Type      Apartment      House\n",
       "Location                      \n",
       "City       625000.0  1075000.0\n",
       "Suburb     775000.0   850000.0\n",
       "Village    900000.0   675000.0"
      ]
     },
     "execution_count": 5,
     "metadata": {},
     "output_type": "execute_result"
    }
   ],
   "source": [
    "house_price_piv_tab = df_grouped.pivot(index ='Location',columns='Type',values='Price')\n",
    "house_price_piv_tab"
   ]
  },
  {
   "cell_type": "markdown",
   "id": "80e67c62-9ece-4a93-8f87-35712d54c958",
   "metadata": {},
   "source": [
    "### Heatmap erstellen"
   ]
  },
  {
   "cell_type": "code",
   "execution_count": 6,
   "id": "7ebb4b7d-8876-448f-a738-566be43ce46f",
   "metadata": {},
   "outputs": [],
   "source": [
    "# plot target variable against multiple variables"
   ]
  },
  {
   "cell_type": "code",
   "execution_count": 7,
   "id": "c9c8f78d-fe2c-485c-abbe-43f6287a26e8",
   "metadata": {},
   "outputs": [],
   "source": [
    "def heat_map(pivot_table, title):\n",
    "    import matplotlib.pyplot as plt\n",
    "    import numpy as np\n",
    "\n",
    "    # Mithelfe von pcolormesh-Funktion erstellen wir das Heatmap-Diagramm \n",
    "    heatmap = plt.pcolormesh(pivot_table, cmap='magma') # 'magma' hier verwenden wir ein Colormap von intensiven bis zur warmen Farben \n",
    "\n",
    "    # Farbskala hinzufügen\n",
    "    cbar = plt.colorbar(heatmap)\n",
    "\n",
    "    #um welche Informationen an welcher Stelle stehen zu verstehen brauchen wir eine Achsenbeschriftungen\n",
    "\n",
    "    #Durch yticks() beschriften wir die Y-Achse. Der erste Parameter gibt die Positionen auf der Y-Achse an (vertikal), und der zweite Parameter sind die Indexwerte aus der Tabelle.\n",
    "\n",
    "    plt.yticks(np.arange(0,len(pivot_table.index))+0.5, pivot_table.index) # + 0.5 wird hinzugefügt, um die Position in der Mitte jedes Balkens zu platzieren.\n",
    "    plt.xticks(np.arange(0,len(pivot_table.columns))+0.5, pivot_table.columns, rotation=40) #Wir machen das Gleiche für die X-Achse, drehen die Beschriftungen um 40 Grad und richten sie rechtsbündig aus.\n",
    "    plt.title(title)\n",
    "    plt.show()\n"
   ]
  },
  {
   "cell_type": "code",
   "execution_count": 8,
   "id": "bd6a2b5f-3299-4df7-af95-679d7adbd104",
   "metadata": {},
   "outputs": [
    {
     "data": {
      "image/png": "[encoded data removed]",
      "text/plain": [
       "<Figure size 640x480 with 2 Axes>"
      ]
     },
     "metadata": {},
     "output_type": "display_data"
    }
   ],
   "source": [
    "heat_map(house_price_piv_tab, 'Hauspreise')"
   ]
  },
  {
   "cell_type": "markdown",
   "id": "717d6ba3-d11a-4963-867c-06d9f7d058f0",
   "metadata": {},
   "source": [
    "## Body Height"
   ]
  },
  {
   "cell_type": "markdown",
   "id": "97346890-0483-4351-98fd-5ae5ed5144b7",
   "metadata": {},
   "source": [
    "### Daten Erstellung"
   ]
  },
  {
   "cell_type": "code",
   "execution_count": 9,
   "id": "a111f787-0125-4dd1-819e-07dff3adb98d",
   "metadata": {},
   "outputs": [],
   "source": [
    "import pandas as pd\n",
    "import numpy as np\n",
    "\n",
    "# Zufällige Beispieldaten erstellen\n",
    "np.random.seed(42)\n",
    "\n",
    "countries = ['USA', 'Germany', 'Japan','Algeria','Yemen']\n",
    "genders = ['Male', 'Female']\n",
    "data = {'Country': np.random.choice(countries, 100),\n",
    "        'Gender': np.random.choice(genders, 100),\n",
    "        'Height': np.random.normal(loc=170, scale=10, size=100).astype(int)}\n",
    "\n",
    "df_2 = pd.DataFrame(data)"
   ]
  },
  {
   "cell_type": "code",
   "execution_count": 10,
   "id": "0dfda3ef-ae25-4e86-8d21-fed82a168ca8",
   "metadata": {},
   "outputs": [
    {
     "data": {
      "text/html": [
       "<div>\n",
       "<style scoped>\n",
       "    .dataframe tbody tr th:only-of-type {\n",
       "        vertical-align: middle;\n",
       "    }\n",
       "\n",
       "    .dataframe tbody tr th {\n",
       "        vertical-align: top;\n",
       "    }\n",
       "\n",
       "    .dataframe thead th {\n",
       "        text-align: right;\n",
       "    }\n",
       "</style>\n",
       "<table border=\"1\" class=\"dataframe\">\n",
       "  <thead>\n",
       "    <tr style=\"text-align: right;\">\n",
       "      <th></th>\n",
       "      <th>Country</th>\n",
       "      <th>Gender</th>\n",
       "      <th>Height</th>\n",
       "    </tr>\n",
       "  </thead>\n",
       "  <tbody>\n",
       "    <tr>\n",
       "      <th>0</th>\n",
       "      <td>Algeria</td>\n",
       "      <td>Female</td>\n",
       "      <td>156</td>\n",
       "    </tr>\n",
       "    <tr>\n",
       "      <th>1</th>\n",
       "      <td>Yemen</td>\n",
       "      <td>Male</td>\n",
       "      <td>199</td>\n",
       "    </tr>\n",
       "    <tr>\n",
       "      <th>2</th>\n",
       "      <td>Japan</td>\n",
       "      <td>Male</td>\n",
       "      <td>159</td>\n",
       "    </tr>\n",
       "    <tr>\n",
       "      <th>3</th>\n",
       "      <td>Yemen</td>\n",
       "      <td>Female</td>\n",
       "      <td>179</td>\n",
       "    </tr>\n",
       "    <tr>\n",
       "      <th>4</th>\n",
       "      <td>Yemen</td>\n",
       "      <td>Female</td>\n",
       "      <td>163</td>\n",
       "    </tr>\n",
       "  </tbody>\n",
       "</table>\n",
       "</div>"
      ],
      "text/plain": [
       "   Country  Gender  Height\n",
       "0  Algeria  Female     156\n",
       "1    Yemen    Male     199\n",
       "2    Japan    Male     159\n",
       "3    Yemen  Female     179\n",
       "4    Yemen  Female     163"
      ]
     },
     "execution_count": 10,
     "metadata": {},
     "output_type": "execute_result"
    }
   ],
   "source": [
    "df_2.head()"
   ]
  },
  {
   "cell_type": "markdown",
   "id": "580961e3-fa1b-400d-9995-de98c1216dfe",
   "metadata": {},
   "source": [
    "### Daten Gruppierung"
   ]
  },
  {
   "cell_type": "code",
   "execution_count": 11,
   "id": "7ac55946-09b4-4ef2-bca2-a57a4b5cf8ad",
   "metadata": {},
   "outputs": [],
   "source": [
    "df_2_grouped = df_2.groupby(['Country','Gender'])['Height'].mean().round(0).reset_index()"
   ]
  },
  {
   "cell_type": "markdown",
   "id": "89414f6e-d9f4-442e-9e89-a52114c34094",
   "metadata": {},
   "source": [
    "### Daten Povitierung"
   ]
  },
  {
   "cell_type": "code",
   "execution_count": 12,
   "id": "6f1f572d-01c5-4fa6-8efc-422eeec21d76",
   "metadata": {},
   "outputs": [
    {
     "data": {
      "text/html": [
       "<div>\n",
       "<style scoped>\n",
       "    .dataframe tbody tr th:only-of-type {\n",
       "        vertical-align: middle;\n",
       "    }\n",
       "\n",
       "    .dataframe tbody tr th {\n",
       "        vertical-align: top;\n",
       "    }\n",
       "\n",
       "    .dataframe thead th {\n",
       "        text-align: right;\n",
       "    }\n",
       "</style>\n",
       "<table border=\"1\" class=\"dataframe\">\n",
       "  <thead>\n",
       "    <tr style=\"text-align: right;\">\n",
       "      <th>Gender</th>\n",
       "      <th>Female</th>\n",
       "      <th>Male</th>\n",
       "    </tr>\n",
       "    <tr>\n",
       "      <th>Country</th>\n",
       "      <th></th>\n",
       "      <th></th>\n",
       "    </tr>\n",
       "  </thead>\n",
       "  <tbody>\n",
       "    <tr>\n",
       "      <th>Algeria</th>\n",
       "      <td>168.0</td>\n",
       "      <td>170.0</td>\n",
       "    </tr>\n",
       "    <tr>\n",
       "      <th>Germany</th>\n",
       "      <td>172.0</td>\n",
       "      <td>172.0</td>\n",
       "    </tr>\n",
       "    <tr>\n",
       "      <th>Japan</th>\n",
       "      <td>164.0</td>\n",
       "      <td>172.0</td>\n",
       "    </tr>\n",
       "    <tr>\n",
       "      <th>USA</th>\n",
       "      <td>173.0</td>\n",
       "      <td>165.0</td>\n",
       "    </tr>\n",
       "    <tr>\n",
       "      <th>Yemen</th>\n",
       "      <td>171.0</td>\n",
       "      <td>173.0</td>\n",
       "    </tr>\n",
       "  </tbody>\n",
       "</table>\n",
       "</div>"
      ],
      "text/plain": [
       "Gender   Female   Male\n",
       "Country               \n",
       "Algeria   168.0  170.0\n",
       "Germany   172.0  172.0\n",
       "Japan     164.0  172.0\n",
       "USA       173.0  165.0\n",
       "Yemen     171.0  173.0"
      ]
     },
     "execution_count": 12,
     "metadata": {},
     "output_type": "execute_result"
    }
   ],
   "source": [
    "height_pvt_tab = df_2_grouped.pivot(index='Country', columns='Gender',values='Height')\n",
    "height_pvt_tab"
   ]
  },
  {
   "cell_type": "markdown",
   "id": "91000967-7729-46c1-822c-009ec512a047",
   "metadata": {},
   "source": [
    "### Heatmap Erstellung"
   ]
  },
  {
   "cell_type": "code",
   "execution_count": 15,
   "id": "367f0d8b-e533-468d-902c-6306b41d2354",
   "metadata": {},
   "outputs": [
    {
     "data": {
      "image/png": "[encoded data removed]",
      "text/plain": [
       "<Figure size 640x480 with 2 Axes>"
      ]
     },
     "metadata": {},
     "output_type": "display_data"
    }
   ],
   "source": [
    "heat_map(height_pvt_tab,'korpergröße  nach Land')"
   ]
  },
  {
   "cell_type": "code",
   "execution_count": null,
   "id": "4c6bbbdc-faee-4bb2-98c3-7252e56c1cdf",
   "metadata": {},
   "outputs": [],
   "source": []
  }
 ],
 "metadata": {
  "kernelspec": {
   "display_name": "Python 3 (ipykernel)",
   "language": "python",
   "name": "python3"
  },
  "language_info": {
   "codemirror_mode": {
    "name": "ipython",
    "version": 3
   },
   "file_extension": ".py",
   "mimetype": "text/x-python",
   "name": "python",
   "nbconvert_exporter": "python",
   "pygments_lexer": "ipython3",
   "version": "3.11.7"
  }
 },
 "nbformat": 4,
 "nbformat_minor": 5
}
